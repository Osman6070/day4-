{
 "cells": [
  {
   "cell_type": "code",
   "execution_count": null,
   "id": "9e27ff49",
   "metadata": {},
   "outputs": [],
   "source": [
    "Introduction to list Data type"
   ]
  },
  {
   "cell_type": "code",
   "execution_count": 1,
   "id": "599296f6",
   "metadata": {},
   "outputs": [
    {
     "name": "stdout",
     "output_type": "stream",
     "text": [
      "['simran', 'tasleem', 'nihar', 'ravi', 'kumar', 'abdul']\n"
     ]
    }
   ],
   "source": [
    "student =['simran','tasleem','nihar','ravi','kumar','abdul']\n",
    "print (student)"
   ]
  },
  {
   "cell_type": "code",
   "execution_count": 2,
   "id": "84fe0e11",
   "metadata": {},
   "outputs": [],
   "source": [
    "# how to verify the datatype"
   ]
  },
  {
   "cell_type": "code",
   "execution_count": 3,
   "id": "5f01f67f",
   "metadata": {},
   "outputs": [
    {
     "ename": "NameError",
     "evalue": "name 'tudent' is not defined",
     "output_type": "error",
     "traceback": [
      "\u001b[1;31m---------------------------------------------------------------------------\u001b[0m",
      "\u001b[1;31mNameError\u001b[0m                                 Traceback (most recent call last)",
      "\u001b[1;32m~\\AppData\\Local\\Temp/ipykernel_23028/662640508.py\u001b[0m in \u001b[0;36m<module>\u001b[1;34m\u001b[0m\n\u001b[1;32m----> 1\u001b[1;33m \u001b[0mtype\u001b[0m \u001b[1;33m(\u001b[0m\u001b[0mtudent\u001b[0m\u001b[1;33m)\u001b[0m\u001b[1;33m\u001b[0m\u001b[1;33m\u001b[0m\u001b[0m\n\u001b[0m",
      "\u001b[1;31mNameError\u001b[0m: name 'tudent' is not defined"
     ]
    }
   ],
   "source": [
    "type (tudent)"
   ]
  },
  {
   "cell_type": "code",
   "execution_count": 4,
   "id": "a648543e",
   "metadata": {},
   "outputs": [
    {
     "data": {
      "text/plain": [
       "list"
      ]
     },
     "execution_count": 4,
     "metadata": {},
     "output_type": "execute_result"
    }
   ],
   "source": [
    "type (student)"
   ]
  },
  {
   "cell_type": "raw",
   "id": "fe192941",
   "metadata": {},
   "source": []
  },
  {
   "cell_type": "code",
   "execution_count": null,
   "id": "8a58d75b",
   "metadata": {},
   "outputs": [],
   "source": [
    "Introduction to Indexing:- 0,1,2.........n"
   ]
  },
  {
   "cell_type": "code",
   "execution_count": null,
   "id": "578d2f97",
   "metadata": {},
   "outputs": [],
   "source": [
    "# how to access the elements from the list ?"
   ]
  },
  {
   "cell_type": "code",
   "execution_count": null,
   "id": "31c6d6c9",
   "metadata": {},
   "outputs": [],
   "source": [
    "# i want to access ravi's name from the above list ....?"
   ]
  },
  {
   "cell_type": "code",
   "execution_count": 5,
   "id": "6641b452",
   "metadata": {},
   "outputs": [
    {
     "name": "stdout",
     "output_type": "stream",
     "text": [
      "ravi\n"
     ]
    }
   ],
   "source": [
    "print (student[3])"
   ]
  },
  {
   "cell_type": "code",
   "execution_count": 6,
   "id": "d3156acb",
   "metadata": {},
   "outputs": [
    {
     "name": "stdout",
     "output_type": "stream",
     "text": [
      "Ravi\n"
     ]
    }
   ],
   "source": [
    "print (student[3].title())"
   ]
  },
  {
   "cell_type": "code",
   "execution_count": 7,
   "id": "d6424ff6",
   "metadata": {},
   "outputs": [
    {
     "ename": "NameError",
     "evalue": "name 'students' is not defined",
     "output_type": "error",
     "traceback": [
      "\u001b[1;31m---------------------------------------------------------------------------\u001b[0m",
      "\u001b[1;31mNameError\u001b[0m                                 Traceback (most recent call last)",
      "\u001b[1;32m~\\AppData\\Local\\Temp/ipykernel_23028/2592117568.py\u001b[0m in \u001b[0;36m<module>\u001b[1;34m\u001b[0m\n\u001b[1;32m----> 1\u001b[1;33m \u001b[0mprint\u001b[0m \u001b[1;33m(\u001b[0m\u001b[0mstudents\u001b[0m\u001b[1;33m)\u001b[0m\u001b[1;33m\u001b[0m\u001b[1;33m\u001b[0m\u001b[0m\n\u001b[0m",
      "\u001b[1;31mNameError\u001b[0m: name 'students' is not defined"
     ]
    }
   ],
   "source": [
    "print (students)"
   ]
  },
  {
   "cell_type": "code",
   "execution_count": 8,
   "id": "2657b99a",
   "metadata": {},
   "outputs": [
    {
     "name": "stdout",
     "output_type": "stream",
     "text": [
      "['simran', 'tasleem', 'nihar', 'ravi', 'kumar', 'abdul']\n"
     ]
    }
   ],
   "source": [
    "print (student)"
   ]
  },
  {
   "cell_type": "code",
   "execution_count": null,
   "id": "cd28926e",
   "metadata": {},
   "outputs": [],
   "source": [
    "# i want to access siram name from the above list...?"
   ]
  },
  {
   "cell_type": "code",
   "execution_count": 9,
   "id": "d247a875",
   "metadata": {},
   "outputs": [
    {
     "name": "stdout",
     "output_type": "stream",
     "text": [
      "Simran\n"
     ]
    }
   ],
   "source": [
    "print (student[0].title())"
   ]
  },
  {
   "cell_type": "code",
   "execution_count": null,
   "id": "c81513e0",
   "metadata": {},
   "outputs": [],
   "source": [
    "1. How to add element to the list."
   ]
  },
  {
   "cell_type": "code",
   "execution_count": null,
   "id": "3e83e227",
   "metadata": {},
   "outputs": [],
   "source": [
    "2. How to modify the elements in the list."
   ]
  },
  {
   "cell_type": "code",
   "execution_count": null,
   "id": "9770ad8c",
   "metadata": {},
   "outputs": [],
   "source": [
    "3. how to delete the elements in the list"
   ]
  },
  {
   "cell_type": "code",
   "execution_count": null,
   "id": "da4801a6",
   "metadata": {},
   "outputs": [],
   "source": [
    "# i want to add shradha to the above list..?"
   ]
  },
  {
   "cell_type": "code",
   "execution_count": 10,
   "id": "3fa8ff73",
   "metadata": {},
   "outputs": [
    {
     "name": "stdout",
     "output_type": "stream",
     "text": [
      "['simran', 'tasleem', 'nihar', 'ravi', 'kumar', 'abdul', 'shradha']\n"
     ]
    }
   ],
   "source": [
    "student.append('shradha')\n",
    "print (student)"
   ]
  },
  {
   "cell_type": "code",
   "execution_count": null,
   "id": "dcd36cbe",
   "metadata": {},
   "outputs": [],
   "source": [
    "# i want to add shiva to the above list ..?\n"
   ]
  },
  {
   "cell_type": "code",
   "execution_count": 11,
   "id": "513f4b7f",
   "metadata": {},
   "outputs": [
    {
     "name": "stdout",
     "output_type": "stream",
     "text": [
      "['simran', 'tasleem', 'nihar', 'ravi', 'kumar', 'abdul', 'shradha', 'shiva']\n"
     ]
    }
   ],
   "source": [
    "student.append('shiva')\n",
    "print (student)"
   ]
  },
  {
   "cell_type": "code",
   "execution_count": null,
   "id": "eeb82976",
   "metadata": {},
   "outputs": [],
   "source": [
    "# i want to add hamed to the second position in the above list...?\n"
   ]
  },
  {
   "cell_type": "code",
   "execution_count": 12,
   "id": "2c66efd7",
   "metadata": {},
   "outputs": [
    {
     "ename": "SyntaxError",
     "evalue": "invalid syntax (Temp/ipykernel_23028/501440617.py, line 1)",
     "output_type": "error",
     "traceback": [
      "\u001b[1;36m  File \u001b[1;32m\"C:\\Users\\dell\\AppData\\Local\\Temp/ipykernel_23028/501440617.py\"\u001b[1;36m, line \u001b[1;32m1\u001b[0m\n\u001b[1;33m    student.insert(,'hamed')\u001b[0m\n\u001b[1;37m                   ^\u001b[0m\n\u001b[1;31mSyntaxError\u001b[0m\u001b[1;31m:\u001b[0m invalid syntax\n"
     ]
    }
   ],
   "source": [
    "student.insert(,'hamed')\n",
    "print (student)"
   ]
  },
  {
   "cell_type": "code",
   "execution_count": 13,
   "id": "9d514e6d",
   "metadata": {},
   "outputs": [
    {
     "name": "stdout",
     "output_type": "stream",
     "text": [
      "['simran', 'tasleem', 'hamed', 'nihar', 'ravi', 'kumar', 'abdul', 'shradha', 'shiva']\n"
     ]
    }
   ],
   "source": [
    "student.insert(2,'hamed')\n",
    "print (student)"
   ]
  },
  {
   "cell_type": "code",
   "execution_count": null,
   "id": "0d8b1e28",
   "metadata": {},
   "outputs": [],
   "source": [
    "q: What is the diff b/w append and Insert method in the list..?"
   ]
  },
  {
   "cell_type": "code",
   "execution_count": null,
   "id": "eb2758f2",
   "metadata": {},
   "outputs": [],
   "source": [
    "2. How to modify elements in the list"
   ]
  },
  {
   "cell_type": "code",
   "execution_count": 14,
   "id": "04d2c431",
   "metadata": {},
   "outputs": [
    {
     "name": "stdout",
     "output_type": "stream",
     "text": [
      "['simran', 'tasleem', 'hamed', 'nihar', 'ravi', 'kumar', 'abdul', 'shradha', 'shiva']\n"
     ]
    }
   ],
   "source": [
    "print (student)"
   ]
  },
  {
   "cell_type": "code",
   "execution_count": null,
   "id": "1f78f773",
   "metadata": {},
   "outputs": [],
   "source": [
    "# req i want to modify ravi name to prasad...?\n"
   ]
  },
  {
   "cell_type": "code",
   "execution_count": 15,
   "id": "16fa9d21",
   "metadata": {},
   "outputs": [
    {
     "name": "stdout",
     "output_type": "stream",
     "text": [
      "ravi\n"
     ]
    }
   ],
   "source": [
    "print (student[4])"
   ]
  },
  {
   "cell_type": "code",
   "execution_count": 16,
   "id": "8b1916d9",
   "metadata": {},
   "outputs": [
    {
     "name": "stdout",
     "output_type": "stream",
     "text": [
      "['simran', 'tasleem', 'hamed', 'nihar', 'prasad', 'kumar', 'abdul', 'shradha', 'shiva']\n"
     ]
    }
   ],
   "source": [
    "student [4] ='prasad'\n",
    "print (student)"
   ]
  },
  {
   "cell_type": "code",
   "execution_count": 17,
   "id": "89ea429c",
   "metadata": {},
   "outputs": [
    {
     "name": "stdout",
     "output_type": "stream",
     "text": [
      "prasad\n"
     ]
    }
   ],
   "source": [
    "print (student[4])"
   ]
  },
  {
   "cell_type": "code",
   "execution_count": null,
   "id": "d49e5b44",
   "metadata": {},
   "outputs": [],
   "source": [
    "# 3 how to delete the elements in the list...?\n"
   ]
  },
  {
   "cell_type": "code",
   "execution_count": 18,
   "id": "da578fa4",
   "metadata": {},
   "outputs": [
    {
     "name": "stdout",
     "output_type": "stream",
     "text": [
      "['simran', 'tasleem', 'hamed', 'nihar', 'prasad', 'kumar', 'abdul', 'shradha', 'shiva']\n"
     ]
    }
   ],
   "source": [
    "print (student)"
   ]
  },
  {
   "cell_type": "code",
   "execution_count": null,
   "id": "dc8a969c",
   "metadata": {},
   "outputs": [],
   "source": [
    "# req i want to delete hamed name from the above list...?"
   ]
  },
  {
   "cell_type": "code",
   "execution_count": 19,
   "id": "cfdd9090",
   "metadata": {},
   "outputs": [
    {
     "name": "stdout",
     "output_type": "stream",
     "text": [
      "hamed\n"
     ]
    }
   ],
   "source": [
    "print (student[2])"
   ]
  },
  {
   "cell_type": "code",
   "execution_count": 20,
   "id": "e04292aa",
   "metadata": {},
   "outputs": [],
   "source": [
    "del student[2]"
   ]
  },
  {
   "cell_type": "code",
   "execution_count": 21,
   "id": "ff215f77",
   "metadata": {},
   "outputs": [
    {
     "name": "stdout",
     "output_type": "stream",
     "text": [
      "['simran', 'tasleem', 'prasad', 'kumar', 'abdul', 'shradha', 'shiva']\n"
     ]
    }
   ],
   "source": [
    "del student[2]\n",
    "print (student)"
   ]
  },
  {
   "cell_type": "code",
   "execution_count": null,
   "id": "0490b79a",
   "metadata": {},
   "outputs": [],
   "source": []
  },
  {
   "cell_type": "code",
   "execution_count": null,
   "id": "346e0a08",
   "metadata": {},
   "outputs": [],
   "source": []
  },
  {
   "cell_type": "code",
   "execution_count": null,
   "id": "e7747bf0",
   "metadata": {},
   "outputs": [],
   "source": []
  },
  {
   "cell_type": "code",
   "execution_count": null,
   "id": "51acedd7",
   "metadata": {},
   "outputs": [],
   "source": []
  }
 ],
 "metadata": {
  "kernelspec": {
   "display_name": "Python 3 (ipykernel)",
   "language": "python",
   "name": "python3"
  },
  "language_info": {
   "codemirror_mode": {
    "name": "ipython",
    "version": 3
   },
   "file_extension": ".py",
   "mimetype": "text/x-python",
   "name": "python",
   "nbconvert_exporter": "python",
   "pygments_lexer": "ipython3",
   "version": "3.9.7"
  }
 },
 "nbformat": 4,
 "nbformat_minor": 5
}
